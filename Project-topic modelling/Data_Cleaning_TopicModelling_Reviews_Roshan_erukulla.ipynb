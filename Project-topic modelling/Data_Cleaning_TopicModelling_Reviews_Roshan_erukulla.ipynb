{
 "cells": [
  {
   "cell_type": "markdown",
   "metadata": {},
   "source": [
    "Data preprocessing and cleaning is an important step before any text mining task. I will remove the punctuations, stopwords and normalize the reviews as much as possible. After every preprocessing step, it is a good practice to check the most frequent words in the data. Therefore, let’s define a function that would plot a bar graph of n most frequent words in the data."
   ]
  },
  {
   "cell_type": "markdown",
   "metadata": {},
   "source": [
    "# libraries"
   ]
  },
  {
   "cell_type": "code",
   "execution_count": 1,
   "metadata": {},
   "outputs": [],
   "source": [
    "#ibraries\n",
    "import pandas as pd\n",
    "import numpy as np\n",
    "import seaborn as sns\n",
    "import matplotlib.pyplot as plt\n",
    "from nltk.probability import FreqDist\n",
    "from nltk.corpus import stopwords \n",
    "import re\n",
    "import spacy\n"
   ]
  },
  {
   "cell_type": "code",
   "execution_count": 2,
   "metadata": {},
   "outputs": [
    {
     "name": "stderr",
     "output_type": "stream",
     "text": [
      "ERROR: Invalid requirement: '#'\n",
      "\n",
      "[notice] A new release of pip is available: 23.2.1 -> 23.3.1\n",
      "[notice] To update, run: python.exe -m pip install --upgrade pip\n"
     ]
    },
    {
     "name": "stdout",
     "output_type": "stream",
     "text": [
      "\u001b[38;5;3m⚠ As of spaCy v3.0, shortcuts like 'en' are deprecated. Please use the\n",
      "full pipeline package name 'en_core_web_sm' instead.\u001b[0m\n",
      "Defaulting to user installation because normal site-packages is not writeable\n"
     ]
    }
   ],
   "source": [
    "!python -m spacy download en # one time run\n"
   ]
  },
  {
   "cell_type": "code",
   "execution_count": 3,
   "metadata": {},
   "outputs": [
    {
     "data": {
      "text/plain": [
       "<bound method DataFrame.info of           Id   ProductId          UserId                      ProfileName  \\\n",
       "0          1  B001E4KFG0  A3SGXH7AUHU8GW                       delmartian   \n",
       "1          2  B00813GRG4  A1D87F6ZCVE5NK                           dll pa   \n",
       "2          3  B000LQOCH0   ABXLMWJIXXAIN  Natalia Corres \"Natalia Corres\"   \n",
       "3          4  B000UA0QIQ  A395BORC6FGVXV                             Karl   \n",
       "4          5  B006K2ZZ7K  A1UQRSCLF8GW1T    Michael D. Bigham \"M. Wassir\"   \n",
       "...      ...         ...             ...                              ...   \n",
       "19993  19994  B002C50X1M  A220PJBDV3DJG9                Patricia A. Brown   \n",
       "19994  19995  B002C50X1M  A1AZ1NXGGP6LDX  Christine Parker \"Love to Read\"   \n",
       "19995  19996  B002C50X1M  A1XRXZI5KOMVDD            KAF1958 \"amandaf0626\"   \n",
       "19996  19997  B002C50X1M   A7G9M0IE7LABX                            Kevin   \n",
       "19997  19998  B002C50X1M  A38J5PRUDESMZF                              ray   \n",
       "\n",
       "       HelpfulnessNumerator  HelpfulnessDenominator  Score        Time  \\\n",
       "0                         1                       1      5  1303862400   \n",
       "1                         0                       0      1  1346976000   \n",
       "2                         1                       1      4  1219017600   \n",
       "3                         3                       3      2  1307923200   \n",
       "4                         0                       0      5  1350777600   \n",
       "...                     ...                     ...    ...         ...   \n",
       "19993                     0                       0      5  1310688000   \n",
       "19994                     0                       0      5  1307923200   \n",
       "19995                     0                       0      4  1307664000   \n",
       "19996                     0                       0      5  1307059200   \n",
       "19997                     0                       0      5  1305763200   \n",
       "\n",
       "                                                 Summary  \\\n",
       "0                                  Good Quality Dog Food   \n",
       "1                                      Not as Advertised   \n",
       "2                                  \"Delight\" says it all   \n",
       "3                                         Cough Medicine   \n",
       "4                                            Great taffy   \n",
       "...                                                  ...   \n",
       "19993                                      Great Tasting   \n",
       "19994                                  Hard to find item   \n",
       "19995                                    Crispy and tart   \n",
       "19996  Exceeded my expectations. One of the best chip...   \n",
       "19997  Awesome Goodness! (deep river kettle chips, sw...   \n",
       "\n",
       "                                                    Text  \n",
       "0      I have bought several of the Vitality canned d...  \n",
       "1      Product arrived labeled as Jumbo Salted Peanut...  \n",
       "2      This is a confection that has been around a fe...  \n",
       "3      If you are looking for the secret ingredient i...  \n",
       "4      Great taffy at a great price.  There was a wid...  \n",
       "...                                                  ...  \n",
       "19993  My husband was just diagnosed as gluten intole...  \n",
       "19994  I find deep river snacks everywhere but hardly...  \n",
       "19995  Deep River Salt & Vinegar chips are thick and ...  \n",
       "19996  I was very skeptical about buying a brand of c...  \n",
       "19997  Before you turn to other name brands out there...  \n",
       "\n",
       "[19998 rows x 10 columns]>"
      ]
     },
     "execution_count": 3,
     "metadata": {},
     "output_type": "execute_result"
    }
   ],
   "source": [
    "\n",
    "\n",
    "# Load the DataFrame\n",
    "df = pd.read_csv(\"D:/FALL 2023/PROJECTS-INFO/Project-topic modelling/Reviews.csv\")\n",
    "df.info\n",
    "\n"
   ]
  },
  {
   "cell_type": "markdown",
   "metadata": {},
   "source": [
    "# Data PreProcessing"
   ]
  },
  {
   "cell_type": "markdown",
   "metadata": {},
   "source": [
    "Converting Unix timestamps (e.g., \"1303862400\") to a human-readable date and time format."
   ]
  },
  {
   "cell_type": "code",
   "execution_count": 4,
   "metadata": {},
   "outputs": [
    {
     "data": {
      "text/plain": [
       "<bound method NDFrame.head of           Id   ProductId          UserId                      ProfileName  \\\n",
       "0          1  B001E4KFG0  A3SGXH7AUHU8GW                       delmartian   \n",
       "1          2  B00813GRG4  A1D87F6ZCVE5NK                           dll pa   \n",
       "2          3  B000LQOCH0   ABXLMWJIXXAIN  Natalia Corres \"Natalia Corres\"   \n",
       "3          4  B000UA0QIQ  A395BORC6FGVXV                             Karl   \n",
       "4          5  B006K2ZZ7K  A1UQRSCLF8GW1T    Michael D. Bigham \"M. Wassir\"   \n",
       "...      ...         ...             ...                              ...   \n",
       "19993  19994  B002C50X1M  A220PJBDV3DJG9                Patricia A. Brown   \n",
       "19994  19995  B002C50X1M  A1AZ1NXGGP6LDX  Christine Parker \"Love to Read\"   \n",
       "19995  19996  B002C50X1M  A1XRXZI5KOMVDD            KAF1958 \"amandaf0626\"   \n",
       "19996  19997  B002C50X1M   A7G9M0IE7LABX                            Kevin   \n",
       "19997  19998  B002C50X1M  A38J5PRUDESMZF                              ray   \n",
       "\n",
       "       HelpfulnessNumerator  HelpfulnessDenominator  Score       Time  \\\n",
       "0                         1                       1      5 2011-04-27   \n",
       "1                         0                       0      1 2012-09-07   \n",
       "2                         1                       1      4 2008-08-18   \n",
       "3                         3                       3      2 2011-06-13   \n",
       "4                         0                       0      5 2012-10-21   \n",
       "...                     ...                     ...    ...        ...   \n",
       "19993                     0                       0      5 2011-07-15   \n",
       "19994                     0                       0      5 2011-06-13   \n",
       "19995                     0                       0      4 2011-06-10   \n",
       "19996                     0                       0      5 2011-06-03   \n",
       "19997                     0                       0      5 2011-05-19   \n",
       "\n",
       "                                                 Summary  \\\n",
       "0                                  Good Quality Dog Food   \n",
       "1                                      Not as Advertised   \n",
       "2                                  \"Delight\" says it all   \n",
       "3                                         Cough Medicine   \n",
       "4                                            Great taffy   \n",
       "...                                                  ...   \n",
       "19993                                      Great Tasting   \n",
       "19994                                  Hard to find item   \n",
       "19995                                    Crispy and tart   \n",
       "19996  Exceeded my expectations. One of the best chip...   \n",
       "19997  Awesome Goodness! (deep river kettle chips, sw...   \n",
       "\n",
       "                                                    Text  \n",
       "0      I have bought several of the Vitality canned d...  \n",
       "1      Product arrived labeled as Jumbo Salted Peanut...  \n",
       "2      This is a confection that has been around a fe...  \n",
       "3      If you are looking for the secret ingredient i...  \n",
       "4      Great taffy at a great price.  There was a wid...  \n",
       "...                                                  ...  \n",
       "19993  My husband was just diagnosed as gluten intole...  \n",
       "19994  I find deep river snacks everywhere but hardly...  \n",
       "19995  Deep River Salt & Vinegar chips are thick and ...  \n",
       "19996  I was very skeptical about buying a brand of c...  \n",
       "19997  Before you turn to other name brands out there...  \n",
       "\n",
       "[19998 rows x 10 columns]>"
      ]
     },
     "execution_count": 4,
     "metadata": {},
     "output_type": "execute_result"
    }
   ],
   "source": [
    "df['Time'] = pd.to_datetime(df['Time'], unit='s')\n",
    "df.head"
   ]
  },
  {
   "cell_type": "markdown",
   "metadata": {},
   "source": [
    "# Data Cleaning"
   ]
  },
  {
   "cell_type": "code",
   "execution_count": 5,
   "metadata": {},
   "outputs": [
    {
     "name": "stdout",
     "output_type": "stream",
     "text": [
      "   Id   ProductId          UserId                      ProfileName  \\\n",
      "0   1  B001E4KFG0  A3SGXH7AUHU8GW                       delmartian   \n",
      "1   2  B00813GRG4  A1D87F6ZCVE5NK                           dll pa   \n",
      "2   3  B000LQOCH0   ABXLMWJIXXAIN  Natalia Corres \"Natalia Corres\"   \n",
      "3   4  B000UA0QIQ  A395BORC6FGVXV                             Karl   \n",
      "4   5  B006K2ZZ7K  A1UQRSCLF8GW1T    Michael D. Bigham \"M. Wassir\"   \n",
      "\n",
      "   HelpfulnessNumerator  HelpfulnessDenominator  Score       Time  \\\n",
      "0                     1                       1      5 2011-04-27   \n",
      "1                     0                       0      1 2012-09-07   \n",
      "2                     1                       1      4 2008-08-18   \n",
      "3                     3                       3      2 2011-06-13   \n",
      "4                     0                       0      5 2012-10-21   \n",
      "\n",
      "                 Summary                                               Text  \n",
      "0  Good Quality Dog Food  bought several vitality canned dog food produc...  \n",
      "1      Not as Advertised  product arrived labeled jumbo salted peanuts p...  \n",
      "2  \"Delight\" says it all  confection around centuries light pillowy citr...  \n",
      "3         Cough Medicine  looking secret ingredient robitussin believe f...  \n",
      "4            Great taffy  great taffy great price wide assortment yummy ...  \n"
     ]
    }
   ],
   "source": [
    "#  function for text preprocessing\n",
    "def preprocess_text(text):\n",
    "    # Remove non-alphabetic characters and convert to lowercase\n",
    "    text = re.sub(\"[^a-zA-Z]\", \" \", text).lower()\n",
    "    # Remove stopwords and short words (length < 3)\n",
    "    text = ' '.join([word for word in text.split() if word not in stop_words and len(word) > 2])\n",
    "    return text\n",
    "\n",
    "# Initializing stopwords\n",
    "stop_words = set(stopwords.words('english'))\n",
    "\n",
    "# Applying text preprocessing to the 'Text' column\n",
    "df['Text'] = df['Text'].apply(preprocess_text)\n",
    "\n",
    "print(df.head(5))"
   ]
  },
  {
   "cell_type": "markdown",
   "metadata": {},
   "source": [
    "# Frequency of Terms"
   ]
  },
  {
   "cell_type": "code",
   "execution_count": 6,
   "metadata": {},
   "outputs": [],
   "source": [
    "# function to plot most frequent terms\n",
    "def freq_words(x, terms = 30):\n",
    "  all_words = ' '.join([text for text in x])\n",
    "  all_words = all_words.split()\n",
    "\n",
    "  fdist = FreqDist(all_words)\n",
    "  words_df = pd.DataFrame({'word':list(fdist.keys()), 'count':list(fdist.values())})\n",
    "\n",
    "  d = words_df.nlargest(columns=\"count\", n = terms) \n",
    "  plt.figure(figsize=(20,5))\n",
    "  ax = sns.barplot(data=d, x= \"word\", y = \"count\")\n",
    "  ax.set(ylabel = 'Count')\n",
    "  plt.show()"
   ]
  },
  {
   "cell_type": "code",
   "execution_count": 7,
   "metadata": {},
   "outputs": [
    {
     "name": "stderr",
     "output_type": "stream",
     "text": [
      "C:\\Users\\rosha\\AppData\\Roaming\\Python\\Python311\\site-packages\\seaborn\\_oldcore.py:1498: FutureWarning: is_categorical_dtype is deprecated and will be removed in a future version. Use isinstance(dtype, CategoricalDtype) instead\n",
      "  if pd.api.types.is_categorical_dtype(vector):\n",
      "C:\\Users\\rosha\\AppData\\Roaming\\Python\\Python311\\site-packages\\seaborn\\_oldcore.py:1498: FutureWarning: is_categorical_dtype is deprecated and will be removed in a future version. Use isinstance(dtype, CategoricalDtype) instead\n",
      "  if pd.api.types.is_categorical_dtype(vector):\n",
      "C:\\Users\\rosha\\AppData\\Roaming\\Python\\Python311\\site-packages\\seaborn\\_oldcore.py:1498: FutureWarning: is_categorical_dtype is deprecated and will be removed in a future version. Use isinstance(dtype, CategoricalDtype) instead\n",
      "  if pd.api.types.is_categorical_dtype(vector):\n"
     ]
    },
    {
     "data": {
      "image/png": "[encoded data removed]",
      "text/plain": [
       "<Figure size 2000x500 with 1 Axes>"
      ]
     },
     "metadata": {},
     "output_type": "display_data"
    }
   ],
   "source": [
    "freq_words(df[\"Text\"])"
   ]
  },
  {
   "cell_type": "markdown",
   "metadata": {},
   "source": [
    "# Tokenizing"
   ]
  },
  {
   "cell_type": "code",
   "execution_count": 8,
   "metadata": {},
   "outputs": [],
   "source": [
    "#tokenizing the reviews and then lemmatizing the tokenized reviews\n",
    "nlp = spacy.load('en_core_web_sm', disable=['parser', 'ner'])\n",
    "def lemmatization(texts, tags=['NOUN', 'ADJ']):\n",
    "    output = []\n",
    "    for text in texts:\n",
    "        doc = nlp(text)\n",
    "        output.append([token.lemma_ for token in doc if token.pos_ in tags])\n",
    "    return output\n",
    "\n",
    "# Tokenize the reviews\n",
    "tokenized_reviews = [review.split() for review in df[\"Text\"]]\n",
    "\n",
    "# Apply lemmatization\n",
    "reviews_2 = lemmatization(df[\"Text\"], tags=['NOUN', 'ADJ'])\n"
   ]
  },
  {
   "cell_type": "code",
   "execution_count": 9,
   "metadata": {},
   "outputs": [
    {
     "name": "stdout",
     "output_type": "stream",
     "text": [
      "['product', 'arrived', 'labeled', 'jumbo', 'salted', 'peanuts', 'peanuts', 'actually', 'small', 'sized', 'unsalted', 'sure', 'error', 'vendor', 'intended', 'represent', 'product', 'jumbo']\n",
      "['product', 'jumbo', 'peanut', 'peanut', 'small', 'sized', 'unsalted', 'sure', 'error', 'vendor', 'product', 'jumbo']\n"
     ]
    },
    {
     "name": "stderr",
     "output_type": "stream",
     "text": [
      "C:\\Users\\rosha\\AppData\\Roaming\\Python\\Python311\\site-packages\\seaborn\\_oldcore.py:1498: FutureWarning: is_categorical_dtype is deprecated and will be removed in a future version. Use isinstance(dtype, CategoricalDtype) instead\n",
      "  if pd.api.types.is_categorical_dtype(vector):\n",
      "C:\\Users\\rosha\\AppData\\Roaming\\Python\\Python311\\site-packages\\seaborn\\_oldcore.py:1498: FutureWarning: is_categorical_dtype is deprecated and will be removed in a future version. Use isinstance(dtype, CategoricalDtype) instead\n",
      "  if pd.api.types.is_categorical_dtype(vector):\n",
      "C:\\Users\\rosha\\AppData\\Roaming\\Python\\Python311\\site-packages\\seaborn\\_oldcore.py:1498: FutureWarning: is_categorical_dtype is deprecated and will be removed in a future version. Use isinstance(dtype, CategoricalDtype) instead\n",
      "  if pd.api.types.is_categorical_dtype(vector):\n"
     ]
    },
    {
     "data": {
      "image/png": "[encoded data removed]",
      "text/plain": [
       "<Figure size 2000x500 with 1 Axes>"
      ]
     },
     "metadata": {},
     "output_type": "display_data"
    }
   ],
   "source": [
    "print(tokenized_reviews[1])\n",
    "print(reviews_2[1])\n",
    "\n",
    "#de-tokenizing the lemmatized reviews and ploting the most common words\n",
    "reviews_3 = [' '.join(review) for review in reviews_2]\n",
    "df[\"Text\"]=reviews_3\n",
    "freq_words(df['Text'], 35)"
   ]
  }
 ],
 "metadata": {
  "kernelspec": {
   "display_name": "Python 3",
   "language": "python",
   "name": "python3"
  },
  "language_info": {
   "codemirror_mode": {
    "name": "ipython",
    "version": 3
   },
   "file_extension": ".py",
   "mimetype": "text/x-python",
   "name": "python",
   "nbconvert_exporter": "python",
   "pygments_lexer": "ipython3",
   "version": "3.11.4"
  }
 },
 "nbformat": 4,
 "nbformat_minor": 2
}
